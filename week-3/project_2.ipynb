{
 "cells": [
  {
   "cell_type": "code",
   "execution_count": 1,
   "id": "d1f6d32d",
   "metadata": {},
   "outputs": [
    {
     "name": "stdout",
     "output_type": "stream",
     "text": [
      " Equation Root Finder \n",
      "1. Solve Quadratic Equation\n",
      "2. Solve Cubic Equation (1 real root)\n",
      "3. Solve Quartic Equation (info only)\n",
      "\n",
      "Quadratic Equation: ax² + bx + c = 0\n",
      "No real roots.\n"
     ]
    }
   ],
   "source": [
    "print(\" Equation Root Finder \")\n",
    "print(\"1. Solve Quadratic Equation\")\n",
    "print(\"2. Solve Cubic Equation (1 real root)\")\n",
    "print(\"3. Solve Quartic Equation (info only)\")\n",
    "\n",
    "choice = input(\"Enter your choice (1/2/3): \")\n",
    "\n",
    "if choice == \"1\":\n",
    "    print(\"\\nQuadratic Equation: ax² + bx + c = 0\")\n",
    "    a = float(input(\"Enter a: \"))\n",
    "    b = float(input(\"Enter b: \"))\n",
    "    c = float(input(\"Enter c: \"))\n",
    "\n",
    "    discriminant = b**2 - 4*a*c\n",
    "\n",
    "    if discriminant > 0:\n",
    "        root1 = (-b + (discriminant)**0.5) / (2*a)\n",
    "        root2 = (-b - (discriminant)**0.5) / (2*a)\n",
    "        print(\"Two real roots:\", root1, \"and\", root2)\n",
    "    elif discriminant == 0:\n",
    "        root = -b / (2*a)\n",
    "        print(\"One real root:\", root)\n",
    "    else:\n",
    "        print(\"No real roots.\")\n",
    "\n",
    "elif choice == \"2\":\n",
    "    print(\"\\nCubic Equation: ax³ + bx² + cx + d = 0\")\n",
    "    print(\"This will find one real root (approximately).\")\n",
    "    \n",
    "    a = float(input(\"Enter a: \"))\n",
    "    b = float(input(\"Enter b: \"))\n",
    "    c = float(input(\"Enter c: \"))\n",
    "    d = float(input(\"Enter d: \"))\n",
    "\n",
    "    found = False\n",
    "    x = -100\n",
    "    while x <= 100:\n",
    "        value = a*x**3 + b*x**2 + c*x + d\n",
    "        if abs(value) < 0.01:\n",
    "            print(\"Approximate real root:\", x)\n",
    "            found = True\n",
    "            break\n",
    "        x += 0.01\n",
    "    if not found:\n",
    "        print(\"No real root found in range.\")\n",
    "\n",
    "elif choice == \"3\":\n",
    "    print(\"\\nQuartic Equation: ax⁴ + bx³ + cx² + dx + e = 0\")\n",
    "    print(\"Too complex to solve by hand in basic Python.\")\n",
    "    print(\"Use a calculator or advanced software.\")\n",
    "\n",
    "else:\n",
    "    print(\"Invalid choice.\")"
   ]
  },
  {
   "cell_type": "code",
   "execution_count": null,
   "id": "5810d5ea",
   "metadata": {},
   "outputs": [],
   "source": []
  }
 ],
 "metadata": {
  "kernelspec": {
   "display_name": "base",
   "language": "python",
   "name": "python3"
  },
  "language_info": {
   "codemirror_mode": {
    "name": "ipython",
    "version": 3
   },
   "file_extension": ".py",
   "mimetype": "text/x-python",
   "name": "python",
   "nbconvert_exporter": "python",
   "pygments_lexer": "ipython3",
   "version": "3.12.7"
  }
 },
 "nbformat": 4,
 "nbformat_minor": 5
}
