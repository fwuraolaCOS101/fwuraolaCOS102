{
 "cells": [
  {
   "cell_type": "code",
   "execution_count": 4,
   "id": "661cfda7",
   "metadata": {},
   "outputs": [
    {
     "name": "stdout",
     "output_type": "stream",
     "text": [
      "1060.0\n",
      "64000.0\n",
      "63000.0\n"
     ]
    }
   ],
   "source": [
    "P = int(input(\"Principal amount: \"))\n",
    "R = int(input(\"Rate: \"))\n",
    "T = int(input(\"Time: \"))\n",
    "n = int(input(\"n: \"))\n",
    "\n",
    "\n",
    "A = P * (1 + (R/100) * T) \n",
    "C = P * (1 + R/n) ** (n * T)\n",
    "AN = P * ((1 + R/n)**(n*T) - 1)/(R/n)\n",
    "\n",
    "print(A)\n",
    "print(C)\n",
    "print(AN)\n"
   ]
  }
 ],
 "metadata": {
  "kernelspec": {
   "display_name": "base",
   "language": "python",
   "name": "python3"
  },
  "language_info": {
   "codemirror_mode": {
    "name": "ipython",
    "version": 3
   },
   "file_extension": ".py",
   "mimetype": "text/x-python",
   "name": "python",
   "nbconvert_exporter": "python",
   "pygments_lexer": "ipython3",
   "version": "3.12.7"
  }
 },
 "nbformat": 4,
 "nbformat_minor": 5
}
